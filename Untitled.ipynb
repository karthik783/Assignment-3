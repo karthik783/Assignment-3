{
  "nbformat": 4,
  "nbformat_minor": 0,
  "metadata": {
    "colab": {
      "name": "Untitled",
      "provenance": [],
      "authorship_tag": "ABX9TyNBjQtwCi3q5VhqOkaQSZ7c",
      "include_colab_link": true
    },
    "kernelspec": {
      "name": "python3",
      "display_name": "Python 3"
    }
  },
  "cells": [
    {
      "cell_type": "markdown",
      "metadata": {
        "id": "view-in-github",
        "colab_type": "text"
      },
      "source": [
        "<a href=\"https://colab.research.google.com/github/karthik783/Assignment-3/blob/master/Untitled.ipynb\" target=\"_parent\"><img src=\"https://colab.research.google.com/assets/colab-badge.svg\" alt=\"Open In Colab\"/></a>"
      ]
    },
    {
      "cell_type": "code",
      "metadata": {
        "id": "WS7vTxVzQqVA",
        "colab_type": "code",
        "colab": {
          "base_uri": "https://localhost:8080/",
          "height": 84
        },
        "outputId": "e8a55c81-d79c-449d-cb78-15a1b1cedfcd"
      },
      "source": [
        "#python program to find the maximum number\n",
        "num1=float(input(\"enter first number:\"))\n",
        "num2=float(input(\"enter second number:\"))\n",
        "num3=float(input(\"enter third number:\"))\n",
        "if(num1 >= num2) and (num1 >= num3):\n",
        "  largest = num1\n",
        "elif(num2 >= num1) and (num2 >= num3):\n",
        "  largest = num2\n",
        "else:\n",
        "  largest = num3\n",
        "print(\"the largest is\",largest)"
      ],
      "execution_count": null,
      "outputs": [
        {
          "output_type": "stream",
          "text": [
            "enter first number:5\n",
            "enter second number:10\n",
            "enter third number:50\n",
            "the largest is 50.0\n"
          ],
          "name": "stdout"
        }
      ]
    },
    {
      "cell_type": "code",
      "metadata": {
        "id": "xnS901thQu-K",
        "colab_type": "code",
        "colab": {
          "base_uri": "https://localhost:8080/",
          "height": 50
        },
        "outputId": "b7f51ea4-9fc3-4d3a-fff6-89ebea20410d"
      },
      "source": [
        "#python program to reverse a string\n",
        "def reverse(s):\n",
        "  str = \"\"\n",
        "  for i in s:\n",
        "    str = i + str\n",
        "  return str\n",
        "s = \"python programming\"\n",
        "print(\"the original string is : \",end=\"\")\n",
        "print(s)\n",
        "print(\"the reversed string is : \",end=\"\")\n",
        "print(reverse(s))\n"
      ],
      "execution_count": null,
      "outputs": [
        {
          "output_type": "stream",
          "text": [
            "the original string is : python programming\n",
            "the reversed string is : gnimmargorp nohtyp\n"
          ],
          "name": "stdout"
        }
      ]
    },
    {
      "cell_type": "code",
      "metadata": {
        "id": "Jk6C4QBuQ5ip",
        "colab_type": "code",
        "colab": {
          "base_uri": "https://localhost:8080/",
          "height": 50
        },
        "outputId": "12fee3e3-f828-4ad6-ed37-4ffff7a058ef"
      },
      "source": [
        "#python program to find whether the given number is primr or not\n",
        "num=int(input(\"enter a number\"))\n",
        "if num>1:\n",
        "  for i in range(2,num):\n",
        "   if(num%i)==0:\n",
        "     print(num,\"is not a prime number\")\n",
        "     print(i,\"times\",num//i,\"is\",num)\n",
        "     break\n",
        "  else:\n",
        "    print(num,\"is a prime number\")\n",
        "else:\n",
        "    print(num,\"is not a prime number\")\n"
      ],
      "execution_count": null,
      "outputs": [
        {
          "output_type": "stream",
          "text": [
            "enter a number3\n",
            "3 is a prime number\n"
          ],
          "name": "stdout"
        }
      ]
    },
    {
      "cell_type": "code",
      "metadata": {
        "id": "5cqOU_E1Q82A",
        "colab_type": "code",
        "colab": {
          "base_uri": "https://localhost:8080/",
          "height": 34
        },
        "outputId": "a6d6e00e-0b62-4378-a361-a0a3eedea414"
      },
      "source": [
        "#python program to find sum of square of first n natural numbers\n",
        "def squaresum(n) :\n",
        "  return (n * (n + 1) * (2 * n + 1))\n",
        "n = 3\n",
        "\n",
        "print(squaresum(n))\n",
        "\n"
      ],
      "execution_count": null,
      "outputs": [
        {
          "output_type": "stream",
          "text": [
            "84\n"
          ],
          "name": "stdout"
        }
      ]
    },
    {
      "cell_type": "code",
      "metadata": {
        "id": "4hfFsfLCRBUA",
        "colab_type": "code",
        "colab": {
          "base_uri": "https://localhost:8080/",
          "height": 67
        },
        "outputId": "bad0fb38-5e28-4e29-f8b3-ec446013ffb9"
      },
      "source": [
        "#python program to check wether the given number is palindrome or not\n",
        "string=input(\"please enter a string:\")\n",
        "str1=\"\"\n",
        "for i in string:\n",
        "  str1=i+str1\n",
        "print(\"string in reverse order:\",str1)\n",
        "if(string==str1):\n",
        "  print(\"this is a palindrome string\")\n",
        "else:\n",
        "  print(\"this is not a palindrome string\")\n"
      ],
      "execution_count": null,
      "outputs": [
        {
          "output_type": "stream",
          "text": [
            "please enter a string:ammu\n",
            "string in reverse order: umma\n",
            "this is not a palindrome string\n"
          ],
          "name": "stdout"
        }
      ]
    }
  ]
}